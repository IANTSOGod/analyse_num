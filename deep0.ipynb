{
 "cells": [
  {
   "cell_type": "markdown",
   "metadata": {
    "id": "LyEeMjnxbRD_"
   },
   "source": [
    "# **Reseau de Neuronne**"
   ]
  },
  {
   "cell_type": "code",
   "execution_count": 61,
   "metadata": {
    "executionInfo": {
     "elapsed": 26,
     "status": "ok",
     "timestamp": 1758792750277,
     "user": {
      "displayName": "Tsito Rabemananjara",
      "userId": "14764735742114144836"
     },
     "user_tz": -180
    },
    "id": "45arVmQRi5zc"
   },
   "outputs": [],
   "source": [
    "import numpy as np\n",
    "import matplotlib.pyplot as plt\n",
    "from tqdm import tqdm\n",
    "import json\n",
    "from vectorization import vectorize_one"
   ]
  },
  {
   "cell_type": "code",
   "execution_count": 65,
   "metadata": {},
   "outputs": [],
   "source": [
    "def predict(text, params, vocabY, norm=False):\n",
    "    \n",
    "    x = vectorize_one(text)\n",
    "    if norm:\n",
    "        x_norm = normalizeOne(x)\n",
    "    else:\n",
    "        x_norm = x\n",
    "    Activations = forward_propagation(x_norm, params)\n",
    "    A = Activations['A'+str(len(params) // 2)]\n",
    "    result = np.argmax(A[:,:1])\n",
    "    print(\"L argmax est \", result)\n",
    "    lan = \"\"\n",
    "    for k,v in vocabY.items():\n",
    "        if result == v:\n",
    "            print(\"Langue trouve !! \") \n",
    "            return k\n",
    "\n",
    "    print(\"Langue introuvable !! \")"
   ]
  },
  {
   "cell_type": "code",
   "execution_count": 3,
   "metadata": {
    "executionInfo": {
     "elapsed": 3,
     "status": "ok",
     "timestamp": 1758792755449,
     "user": {
      "displayName": "Tsito Rabemananjara",
      "userId": "14764735742114144836"
     },
     "user_tz": -180
    },
    "id": "cW7gVGJNsGwY"
   },
   "outputs": [],
   "source": [
    "def hot_ones(y, length=None):\n",
    "    if length == None:\n",
    "        length = len(np.unique(y))\n",
    "    if not y.shape:\n",
    "        size = 1\n",
    "    else:\n",
    "        size = y.shape[0]\n",
    "        \n",
    "    y_hot_ones = np.zeros((size, length))\n",
    "    for i in range(size):\n",
    "        val = y[i]\n",
    "        y_hot_ones[i, val] = 1\n",
    "    return y_hot_ones.T"
   ]
  },
  {
   "cell_type": "code",
   "execution_count": 4,
   "metadata": {
    "executionInfo": {
     "elapsed": 24,
     "status": "ok",
     "timestamp": 1758792755476,
     "user": {
      "displayName": "Tsito Rabemananjara",
      "userId": "14764735742114144836"
     },
     "user_tz": -180
    },
    "id": "_7XvTH87gTUT"
   },
   "outputs": [],
   "source": [
    "def divideData(X, Y , ratio=0.2):\n",
    "    indices = np.arange(X.shape[0])\n",
    "    np.random.shuffle(indices)\n",
    "    test_size = int(X.shape[0] * ratio)\n",
    "    test_indices = indices[:test_size]\n",
    "    train_indices = indices[test_size:]\n",
    "    X_train, X_test = X[train_indices], X[test_indices]\n",
    "    Y_train, Y_test = Y[train_indices], Y[test_indices]\n",
    "    return X_train, X_test, Y_train, Y_test"
   ]
  },
  {
   "cell_type": "code",
   "execution_count": 5,
   "metadata": {
    "executionInfo": {
     "elapsed": 107,
     "status": "ok",
     "timestamp": 1758792755590,
     "user": {
      "displayName": "Tsito Rabemananjara",
      "userId": "14764735742114144836"
     },
     "user_tz": -180
    },
    "id": "cDTySL7LNO4z"
   },
   "outputs": [],
   "source": [
    "def loadData(file=\"/content/drive/MyDrive/\"):\n",
    "    X = np.load(file + \"Xfit.npy\")\n",
    "    y = np.load(file + \"Yfit.npy\")\n",
    "    idf = np.load(file + \"idfFit.npy\")\n",
    "    json_path = file + \"vocabFit.json\"\n",
    "    with open(json_path, 'r') as f:\n",
    "        vocabX = json.load(f)\n",
    "\n",
    "    json_path = file + \"vocabYFit.json\"\n",
    "    with open(json_path, 'r') as f:\n",
    "        vocabY = json.load(f)\n",
    "    return X, y, idf, vocabX, vocabY"
   ]
  },
  {
   "cell_type": "code",
   "execution_count": 6,
   "metadata": {
    "executionInfo": {
     "elapsed": 23,
     "status": "ok",
     "timestamp": 1758792755620,
     "user": {
      "displayName": "Tsito Rabemananjara",
      "userId": "14764735742114144836"
     },
     "user_tz": -180
    },
    "id": "vjP6H0faNRfH"
   },
   "outputs": [],
   "source": [
    "def relu(x):\n",
    "    return np.maximum(0, x)\n",
    "\n",
    "def relu_derivative(x):\n",
    "    return (x > 0).astype(float)"
   ]
  },
  {
   "cell_type": "code",
   "execution_count": 7,
   "metadata": {
    "executionInfo": {
     "elapsed": 116,
     "status": "ok",
     "timestamp": 1758792755741,
     "user": {
      "displayName": "Tsito Rabemananjara",
      "userId": "14764735742114144836"
     },
     "user_tz": -180
    },
    "id": "8B6-WkB8B8Tv"
   },
   "outputs": [],
   "source": [
    "def sigmoid(Z):\n",
    "    return 1 / 1 + np.exp(-Z)\n",
    "\n",
    "def sigmoid_derivative(Z):\n",
    "    return sigmoid(Z) * (1 - sigmoid(Z))"
   ]
  },
  {
   "cell_type": "code",
   "execution_count": 8,
   "metadata": {
    "executionInfo": {
     "elapsed": 2,
     "status": "ok",
     "timestamp": 1758792755748,
     "user": {
      "displayName": "Tsito Rabemananjara",
      "userId": "14764735742114144836"
     },
     "user_tz": -180
    },
    "id": "TNL9BgZLbpJQ"
   },
   "outputs": [],
   "source": [
    "def softmax(vect):\n",
    "    maxval = np.max(vect, axis=0)\n",
    "    exps = np.sum(np.exp(vect-maxval), axis=0,  keepdims = True)\n",
    "    return np.exp(vect-maxval) / exps"
   ]
  },
  {
   "cell_type": "code",
   "execution_count": 9,
   "metadata": {
    "executionInfo": {
     "elapsed": 14,
     "status": "ok",
     "timestamp": 1758792755880,
     "user": {
      "displayName": "Tsito Rabemananjara",
      "userId": "14764735742114144836"
     },
     "user_tz": -180
    },
    "id": "MBR8Et9Rbql1"
   },
   "outputs": [],
   "source": [
    "def accuracy(Y, A):\n",
    "    true_classes = np.argmax(Y, axis=0)\n",
    "    pred_classes = np.argmax(A, axis=0)\n",
    "    return np.mean(true_classes == pred_classes)*100"
   ]
  },
  {
   "cell_type": "code",
   "execution_count": 10,
   "metadata": {
    "executionInfo": {
     "elapsed": 3,
     "status": "ok",
     "timestamp": 1758792755886,
     "user": {
      "displayName": "Tsito Rabemananjara",
      "userId": "14764735742114144836"
     },
     "user_tz": -180
    },
    "id": "AT6CoDrhcSXd"
   },
   "outputs": [],
   "source": [
    "def check_values(dictionnaire):\n",
    "    for cle,valeur in dictionnaire.items():\n",
    "        print(cle, valeur.shape)\n",
    "    print()"
   ]
  },
  {
   "cell_type": "code",
   "execution_count": 11,
   "metadata": {
    "executionInfo": {
     "elapsed": 120,
     "status": "ok",
     "timestamp": 1758798798148,
     "user": {
      "displayName": "Tsito Rabemananjara",
      "userId": "14764735742114144836"
     },
     "user_tz": -180
    },
    "id": "z8ZRGDYXb7dg"
   },
   "outputs": [],
   "source": [
    "def cross_entropy(activations, y, params):\n",
    "    epsi = 1e-15\n",
    "    couches = (len(params) // 2)\n",
    "    A = activations['A' + str(couches)]\n",
    "    m = y.shape[1]\n",
    "    return np.sum(y * np.log(A+epsi))/ -m\n",
    "    #return()"
   ]
  },
  {
   "cell_type": "code",
   "execution_count": 12,
   "metadata": {
    "executionInfo": {
     "elapsed": 5,
     "status": "ok",
     "timestamp": 1758794012632,
     "user": {
      "displayName": "Tsito Rabemananjara",
      "userId": "14764735742114144836"
     },
     "user_tz": -180
    },
    "id": "4BjZOlK4gKqx"
   },
   "outputs": [],
   "source": [
    "def initialiser(dim):\n",
    "\n",
    "    couches = len(dim) - 1\n",
    "    parametres = {}\n",
    "    for couche in range(couches):\n",
    "        parametres['W' + str(couche+1)] = np.random.randn(dim[couche+1],dim[couche])*np.sqrt(2 / dim[couche])\n",
    "        parametres['B' + str(couche+1)] = np.zeros((dim[couche+1], 1))\n",
    "    return parametres"
   ]
  },
  {
   "cell_type": "code",
   "execution_count": 13,
   "metadata": {
    "executionInfo": {
     "elapsed": 129,
     "status": "ok",
     "timestamp": 1758794364576,
     "user": {
      "displayName": "Tsito Rabemananjara",
      "userId": "14764735742114144836"
     },
     "user_tz": -180
    },
    "id": "lHleD8EdPuhh"
   },
   "outputs": [],
   "source": [
    "def normalizeData(X, y, train=False):\n",
    "    if train:\n",
    "        X_max , X_min = X.max(axis=0) , X.min(axis=0)\n",
    "        np.save('norm.npy', np.array([X_min, X_max]))\n",
    "    else:\n",
    "        X_norm = np.load('norm.npy')\n",
    "        X_max , X_min = X_norm[1] , X_norm[0]\n",
    "        \n",
    "    X_train = (X - X_min) * 1/(X_max-X_min)    \n",
    "    y = y.reshape(y.shape[0], 1)\n",
    "    X_train = X_train.T\n",
    "    y_hot = hot_ones(y, length=22)\n",
    "    print(X_train.shape, y_hot.shape)\n",
    "    return X_train, y_hot\n",
    "\n",
    "def normalizeOne(X):\n",
    "    X_norm = np.load('norm.npy')\n",
    "    X_max , X_min = X_norm[1] , X_norm[0]\n",
    "    \n",
    "    X_train = (X - X_min) * 1/(X_max-X_min)\n",
    "    X_train = X_train.T\n",
    "    print(X_train.shape)\n",
    "    return X_train"
   ]
  },
  {
   "cell_type": "code",
   "execution_count": 14,
   "metadata": {
    "executionInfo": {
     "elapsed": 90,
     "status": "ok",
     "timestamp": 1758794009956,
     "user": {
      "displayName": "Tsito Rabemananjara",
      "userId": "14764735742114144836"
     },
     "user_tz": -180
    },
    "id": "x4UVSjI9by_F"
   },
   "outputs": [],
   "source": [
    "def forward_propagation(X, parametres):\n",
    "\n",
    "    couches = len(parametres) // 2\n",
    "    activations = {\n",
    "        'A0' : X\n",
    "    }\n",
    "    for couche in range(couches-1):\n",
    "        W = parametres['W' + str(couche+1)]\n",
    "        B = parametres['B' + str(couche+1)]\n",
    "        A = activations['A' + str(couche)]\n",
    "        Z = W.dot(A) + B\n",
    "        activations['Z'+str(couche+1)] = Z\n",
    "        activations['A' + str(couche+1)] = relu(Z)\n",
    "\n",
    "\n",
    "\n",
    "    W = parametres['W' + str(couches)]\n",
    "    B = parametres['B' + str(couches)]\n",
    "    A = activations['A' + str(couches-1)]\n",
    "    Z = W.dot(A) + B\n",
    "    activations['Z'+str(couches)] = Z\n",
    "    activations['A' + str(couches)] = softmax(Z)\n",
    "\n",
    "\n",
    "    return activations"
   ]
  },
  {
   "cell_type": "code",
   "execution_count": 15,
   "metadata": {
    "executionInfo": {
     "elapsed": 9,
     "status": "ok",
     "timestamp": 1758801782050,
     "user": {
      "displayName": "Tsito Rabemananjara",
      "userId": "14764735742114144836"
     },
     "user_tz": -180
    },
    "id": "F9azh5vVcE6w"
   },
   "outputs": [],
   "source": [
    "def back_propagation(activations, y, parametres):\n",
    "\n",
    "    m = y.shape[1]\n",
    "    couches = len(parametres) // 2\n",
    "    dZ = activations['A' + str(couches)] - y\n",
    "    gradients = {}\n",
    "\n",
    "    for i in range(couches):\n",
    "        couche = couches-i\n",
    "        A = activations['A' + str(couche-1)]\n",
    "        gradients['dW' + str(couche)] = (1/m) * dZ.dot(A.T)\n",
    "        gradients['dB' + str(couche)] = (1/m) * np.sum(dZ, axis=1, keepdims=True)\n",
    "\n",
    "        if couche>1:\n",
    "            W = parametres['W' + str(couche)]\n",
    "            Z = activations['Z'+str(couche-1)]\n",
    "            dZ = (W.T).dot(dZ) * relu_derivative(Z)\n",
    "\n",
    "\n",
    "    return gradients"
   ]
  },
  {
   "cell_type": "code",
   "execution_count": 16,
   "metadata": {
    "executionInfo": {
     "elapsed": 5,
     "status": "ok",
     "timestamp": 1758792755917,
     "user": {
      "displayName": "Tsito Rabemananjara",
      "userId": "14764735742114144836"
     },
     "user_tz": -180
    },
    "id": "EQsBs-1PcMFk"
   },
   "outputs": [],
   "source": [
    "def update_params(parametres, gradients, learning_rate):\n",
    "\n",
    "    couches = len(parametres) // 2\n",
    "\n",
    "    for c in range(couches):\n",
    "        couche = c+1\n",
    "        W = parametres['W' + str(couche)]\n",
    "        dW = gradients['dW' + str(couche)]\n",
    "        parametres['W' + str(couche)] = W - (learning_rate * dW)\n",
    "\n",
    "        B = parametres['B' + str(couche)]\n",
    "        dB = gradients['dB' + str(couche)]\n",
    "        parametres['B' + str(couche)]  = B - (learning_rate * dB)\n",
    "\n",
    "    return parametres"
   ]
  },
  {
   "cell_type": "code",
   "execution_count": 17,
   "metadata": {
    "executionInfo": {
     "elapsed": 137,
     "status": "ok",
     "timestamp": 1758800119260,
     "user": {
      "displayName": "Tsito Rabemananjara",
      "userId": "14764735742114144836"
     },
     "user_tz": -180
    },
    "id": "Fa_BOKZ-gCBw"
   },
   "outputs": [],
   "source": [
    "def neuronal_network(X, y, dim, n_iter, learning_rate):\n",
    "\n",
    "    params = initialiser(dim)\n",
    "    print(\"Les parametres\")\n",
    "    check_values(params)\n",
    "    loss = []\n",
    "\n",
    "    for i in tqdm(range(n_iter)):\n",
    "\n",
    "        activations = forward_propagation(X, params)\n",
    "\n",
    "        if i%1000:\n",
    "            loss.append(cross_entropy(activations, y, params))\n",
    "\n",
    "        gradients = back_propagation(activations, y, params)\n",
    "        params = update_params(params, gradients, learning_rate)\n",
    "\n",
    "\n",
    "    plt.figure(figsize=(12,7))\n",
    "    plt.plot(loss)\n",
    "    plt.show\n",
    "    return params, loss"
   ]
  },
  {
   "cell_type": "code",
   "execution_count": 18,
   "metadata": {
    "executionInfo": {
     "elapsed": 124,
     "status": "ok",
     "timestamp": 1758805878304,
     "user": {
      "displayName": "Tsito Rabemananjara",
      "userId": "14764735742114144836"
     },
     "user_tz": -180
    },
    "id": "oMyub6pc2yTy"
   },
   "outputs": [],
   "source": [
    "def neuronal_network_mini_batch(X, y, dim, epoch, batch_size, learning_rate, params=None):\n",
    "\n",
    "    if params == None:\n",
    "        params = initialiser(dim)\n",
    "        print(\"Generation des parametres\")\n",
    "    else:\n",
    "        print(\"Les parametres precedants charges\")\n",
    "    print(\"Les parametres\")\n",
    "    check_values(params)\n",
    "    loss = []\n",
    "\n",
    "\n",
    "    for ep in tqdm(range(epoch)):\n",
    "        mini_batches = create_mini_batches(X, y, batch_size=batch_size, shuffle=True)\n",
    "\n",
    "        for X_batch, y_batch in mini_batches:\n",
    "            activations = forward_propagation(X_batch, params)\n",
    "            gradients = back_propagation(activations, y_batch, params)\n",
    "            params = update_params(params, gradients, learning_rate)\n",
    "\n",
    "\n",
    "        activations_full = forward_propagation(X, params)\n",
    "        loss.append(cross_entropy(activations_full, y, params))\n",
    "\n",
    "    # afficher la courbe de perte\n",
    "    plt.figure(figsize=(12,7))\n",
    "    plt.plot(loss)\n",
    "    plt.xlabel(\"Itérations (x500)\")\n",
    "    plt.ylabel(\"Loss\")\n",
    "    plt.show()\n",
    "\n",
    "    return params, loss"
   ]
  },
  {
   "cell_type": "code",
   "execution_count": 19,
   "metadata": {
    "executionInfo": {
     "elapsed": 123,
     "status": "ok",
     "timestamp": 1758805795265,
     "user": {
      "displayName": "Tsito Rabemananjara",
      "userId": "14764735742114144836"
     },
     "user_tz": -180
    },
    "id": "nTDZF-CZ_kOU"
   },
   "outputs": [],
   "source": [
    "def create_mini_batches(X, y, batch_size=64, shuffle=True):\n",
    "    \n",
    "    m = X.shape[1] \n",
    "    mini_batches = []\n",
    "\n",
    "    if shuffle:\n",
    "        permutation = np.random.permutation(m)\n",
    "        X = X[:, permutation]\n",
    "        y = y[:, permutation]\n",
    "\n",
    "    num_complete_batches = m // batch_size\n",
    "\n",
    "    for k in range(num_complete_batches):\n",
    "        X_batch = X[:, k*batch_size:(k+1)*batch_size]\n",
    "        y_batch = y[:, k*batch_size:(k+1)*batch_size]\n",
    "        mini_batches.append((X_batch, y_batch))\n",
    "\n",
    "    \n",
    "    if m % batch_size != 0:\n",
    "        X_batch = X[:, num_complete_batches*batch_size:]\n",
    "        y_batch = y[:, num_complete_batches*batch_size:]\n",
    "        mini_batches.append((X_batch, y_batch))\n",
    "\n",
    "    return mini_batches\n"
   ]
  },
  {
   "cell_type": "code",
   "execution_count": 74,
   "metadata": {
    "executionInfo": {
     "elapsed": 685,
     "status": "ok",
     "timestamp": 1758794354195,
     "user": {
      "displayName": "Tsito Rabemananjara",
      "userId": "14764735742114144836"
     },
     "user_tz": -180
    },
    "id": "2c9EYzjqPLNP"
   },
   "outputs": [
    {
     "data": {
      "text/plain": [
       "'X , y, idf, vocabX, vocabY = loadData(file=\"\")'"
      ]
     },
     "execution_count": 74,
     "metadata": {},
     "output_type": "execute_result"
    }
   ],
   "source": [
    "\"\"\"X , y, idf, vocabX, vocabY = loadData(file=\"\")\"\"\""
   ]
  },
  {
   "cell_type": "code",
   "execution_count": 75,
   "metadata": {
    "colab": {
     "base_uri": "https://localhost:8080/",
     "height": 53
    },
    "executionInfo": {
     "elapsed": 103,
     "status": "ok",
     "timestamp": 1758792905254,
     "user": {
      "displayName": "Tsito Rabemananjara",
      "userId": "14764735742114144836"
     },
     "user_tz": -180
    },
    "id": "Cq3vErpOjkAa",
    "outputId": "9366f766-b87d-416a-c7df-4116505b850f"
   },
   "outputs": [
    {
     "data": {
      "text/plain": [
       "'X_div, X_test, Y, y_test = divideData(X, y)\\nprint(\"X train : \", X_div.shape)\\nprint(\"Y train : \", Y.shape)\\nprint(\"X test : \", X_test.shape)\\nprint(\"Y test : \", y_test.shape)'"
      ]
     },
     "execution_count": 75,
     "metadata": {},
     "output_type": "execute_result"
    }
   ],
   "source": [
    "\"\"\"X_div, X_test, Y, y_test = divideData(X, y)\n",
    "print(\"X train : \", X_div.shape)\n",
    "print(\"Y train : \", Y.shape)\n",
    "print(\"X test : \", X_test.shape)\n",
    "print(\"Y test : \", y_test.shape)\"\"\""
   ]
  },
  {
   "cell_type": "code",
   "execution_count": 23,
   "metadata": {},
   "outputs": [
    {
     "name": "stdout",
     "output_type": "stream",
     "text": [
      "(600, 17600) (22, 17600)\n"
     ]
    }
   ],
   "source": [
    "\"\"\"\"\"X_train, y_hot = normalizeData(X_div, Y)\"\"\""
   ]
  },
  {
   "cell_type": "code",
   "execution_count": 64,
   "metadata": {
    "colab": {
     "base_uri": "https://localhost:8080/"
    },
    "id": "-2mmgNd8SXGg",
    "outputId": "67165f1c-aa65-487d-d4ad-b81f874e117a"
   },
   "outputs": [],
   "source": [
    "def mainFitting():\n",
    "    params0 = np.load(\"parametres4.npy\", allow_pickle=True).item()\n",
    "    print(type(params0))\n",
    "    check_values(params0)\n",
    "\n",
    "    dim = [512, 256, 128]\n",
    "    dim.insert(0, X_train.shape[0])\n",
    "    dim.append(y_hot.shape[0])\n",
    "    batch_size = 128\n",
    "    epoch = 500\n",
    "    learning_rate = 0.01\n",
    "    params, loss = neuronal_network_mini_batch(X_train, y_hot, dim, epoch, batch_size, learning_rate, params=params0)\n",
    "    np.save(\"parametres5.npy\", params)\n",
    "    print(\"Parametres enregistrés\")\n",
    "    print(loss[-1])"
   ]
  },
  {
   "cell_type": "code",
   "execution_count": null,
   "metadata": {},
   "outputs": [],
   "source": [
    "def test(X, y, X_train, y_hot, X_test, y_test):\n",
    "    params0 = np.load(\"parametres4.npy\", allow_pickle=True).item()\n",
    "    X_testall, y_hotall = normalizeData(X,y, train=False)\n",
    "    Actiations = forward_propagation(X_train, params0)\n",
    "    A = Actiations['A'+str(len(params0) // 2)]\n",
    "    acc = accuracy(y_hot, A)\n",
    "    print(\"Accuracy : \", acc)\n",
    "\n",
    "    X_test_norm, Y_test_norm = normalizeData(X_test, y_test, train=False)\n",
    "    Actiationstest = forward_propagation(X_test_norm, params0)\n",
    "    A = Actiationstest['A'+str(len(params0) // 2)]\n",
    "    accur = accuracy(Y_test_norm, A)\n",
    "    print(\"Accuracy : \", accur)"
   ]
  }
 ],
 "metadata": {
  "colab": {
   "provenance": [],
   "toc_visible": true
  },
  "kernelspec": {
   "display_name": "Python [conda env:.conda-fax]",
   "language": "python",
   "name": "conda-env-.conda-fax-py"
  },
  "language_info": {
   "codemirror_mode": {
    "name": "ipython",
    "version": 3
   },
   "file_extension": ".py",
   "mimetype": "text/x-python",
   "name": "python",
   "nbconvert_exporter": "python",
   "pygments_lexer": "ipython3",
   "version": "3.12.9"
  }
 },
 "nbformat": 4,
 "nbformat_minor": 4
}
